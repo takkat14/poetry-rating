{
 "cells": [
  {
   "cell_type": "code",
   "execution_count": 1,
   "metadata": {},
   "outputs": [],
   "source": [
    "import os\n",
    "import pandas as pd\n",
    "from tqdm import tqdm\n",
    "import json"
   ]
  },
  {
   "cell_type": "code",
   "execution_count": 3,
   "metadata": {},
   "outputs": [],
   "source": [
    "path = \"data/chitalnya/\"\n",
    "files = os.listdir(path)"
   ]
  },
  {
   "cell_type": "code",
   "execution_count": 13,
   "metadata": {},
   "outputs": [],
   "source": [
    "def get_data_with_rating(data, with_rating, filename):\n",
    "    total = 0\n",
    "    for i, s in enumerate(data):\n",
    "        if \"rating\" in s:\n",
    "            with_rating.append(\n",
    "                {\n",
    "                    \"idx\" : i,\n",
    "                    \"filename\":filename,\n",
    "                    \"rating\": s[\"rating\"],\n",
    "                    \"text_len\": len(s[\"text\"]),\n",
    "                    \"tag\": s[\"tag\"],\n",
    "                }\n",
    "            )\n",
    "        total += 1\n",
    "    return total"
   ]
  },
  {
   "cell_type": "code",
   "execution_count": 14,
   "metadata": {},
   "outputs": [
    {
     "name": "stderr",
     "output_type": "stream",
     "text": [
      "100%|████████████████████████████████████████████████████████████████| 7937/7937 [00:47<00:00, 165.64it/s]\n"
     ]
    }
   ],
   "source": [
    "with_rating = []\n",
    "cnt = 0\n",
    "for file in tqdm(files):\n",
    "    with open(path + file) as f:\n",
    "        data = json.load(f)\n",
    "        cnt += get_data_with_rating(data, with_rating, file)\n",
    "        "
   ]
  },
  {
   "cell_type": "code",
   "execution_count": 15,
   "metadata": {},
   "outputs": [
    {
     "name": "stdout",
     "output_type": "stream",
     "text": [
      "Total amount of poems: 714870\n",
      "Poems with rating field: 329560\n"
     ]
    }
   ],
   "source": [
    "print(f\"Total amount of poems: {cnt}\")\n",
    "print(f\"Poems with rating field: {len(with_rating)}\")"
   ]
  },
  {
   "cell_type": "code",
   "execution_count": 16,
   "metadata": {},
   "outputs": [],
   "source": [
    "meta_df = pd.DataFrame(with_rating)\n",
    "df_with_ratings = meta_df[meta_df[\"rating\"].notna()].reset_index(drop=True)\n",
    "df_with_ratings.rating = df_with_ratings.rating.astype(int)"
   ]
  },
  {
   "cell_type": "code",
   "execution_count": 17,
   "metadata": {},
   "outputs": [
    {
     "data": {
      "text/html": [
       "<div>\n",
       "<style scoped>\n",
       "    .dataframe tbody tr th:only-of-type {\n",
       "        vertical-align: middle;\n",
       "    }\n",
       "\n",
       "    .dataframe tbody tr th {\n",
       "        vertical-align: top;\n",
       "    }\n",
       "\n",
       "    .dataframe thead th {\n",
       "        text-align: right;\n",
       "    }\n",
       "</style>\n",
       "<table border=\"1\" class=\"dataframe\">\n",
       "  <thead>\n",
       "    <tr style=\"text-align: right;\">\n",
       "      <th></th>\n",
       "      <th>rating</th>\n",
       "      <th>text_len</th>\n",
       "    </tr>\n",
       "  </thead>\n",
       "  <tbody>\n",
       "    <tr>\n",
       "      <th>count</th>\n",
       "      <td>127835.000000</td>\n",
       "      <td>127835.000000</td>\n",
       "    </tr>\n",
       "    <tr>\n",
       "      <th>mean</th>\n",
       "      <td>29.767231</td>\n",
       "      <td>779.762499</td>\n",
       "    </tr>\n",
       "    <tr>\n",
       "      <th>std</th>\n",
       "      <td>50.031324</td>\n",
       "      <td>1930.529442</td>\n",
       "    </tr>\n",
       "    <tr>\n",
       "      <th>min</th>\n",
       "      <td>1.000000</td>\n",
       "      <td>1.000000</td>\n",
       "    </tr>\n",
       "    <tr>\n",
       "      <th>25%</th>\n",
       "      <td>4.000000</td>\n",
       "      <td>407.000000</td>\n",
       "    </tr>\n",
       "    <tr>\n",
       "      <th>50%</th>\n",
       "      <td>11.000000</td>\n",
       "      <td>622.000000</td>\n",
       "    </tr>\n",
       "    <tr>\n",
       "      <th>75%</th>\n",
       "      <td>35.000000</td>\n",
       "      <td>881.000000</td>\n",
       "    </tr>\n",
       "    <tr>\n",
       "      <th>max</th>\n",
       "      <td>1959.000000</td>\n",
       "      <td>261860.000000</td>\n",
       "    </tr>\n",
       "  </tbody>\n",
       "</table>\n",
       "</div>"
      ],
      "text/plain": [
       "              rating       text_len\n",
       "count  127835.000000  127835.000000\n",
       "mean       29.767231     779.762499\n",
       "std        50.031324    1930.529442\n",
       "min         1.000000       1.000000\n",
       "25%         4.000000     407.000000\n",
       "50%        11.000000     622.000000\n",
       "75%        35.000000     881.000000\n",
       "max      1959.000000  261860.000000"
      ]
     },
     "execution_count": 17,
     "metadata": {},
     "output_type": "execute_result"
    }
   ],
   "source": [
    "df_with_ratings[[\"rating\", \"text_len\"]].describe(include=\"all\")"
   ]
  },
  {
   "cell_type": "code",
   "execution_count": 19,
   "metadata": {},
   "outputs": [
    {
     "data": {
      "text/plain": [
       "{'Акростихи',\n",
       " 'Афоризмы',\n",
       " 'Баллады',\n",
       " 'Басни',\n",
       " 'Драмы в стихах',\n",
       " 'Новая экспериментальная поэзия',\n",
       " 'Песни (разное)',\n",
       " 'Стихи, не вошедшие в рубрики',\n",
       " 'Эпиграммы',\n",
       " 'исторические стихи',\n",
       " 'лирика',\n",
       " 'пародия',\n",
       " 'стихи для детей',\n",
       " 'шуточные стихи',\n",
       " 'эротика'}"
      ]
     },
     "execution_count": 19,
     "metadata": {},
     "output_type": "execute_result"
    }
   ],
   "source": [
    "set(df_with_ratings[\"tag\"].values)"
   ]
  },
  {
   "cell_type": "markdown",
   "metadata": {},
   "source": [
    "# Let's make a basic"
   ]
  }
 ],
 "metadata": {
  "kernelspec": {
   "display_name": "Python 3 (ipykernel)",
   "language": "python",
   "name": "python3"
  },
  "orig_nbformat": 4
 },
 "nbformat": 4,
 "nbformat_minor": 2
}
