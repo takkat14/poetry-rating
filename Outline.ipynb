{
 "cells": [
  {
   "cell_type": "markdown",
   "metadata": {},
   "source": [
    "# Задача \"Ранжирование стихов\"\n",
    "\n",
    "Будем формулировать задачу как задачу регрессии. Цель, по стиху давать некоторую оценку от 0 до 1.\n"
   ]
  },
  {
   "cell_type": "markdown",
   "metadata": {},
   "source": [
    "## Данные:\n",
    "### Обучение -- дамп с chitalnya.ru.\n",
    " \n",
    "__Всего текстов: 714870__\n",
    "\n",
    "__C рейтингом: 127835__\n",
    "\n",
    "Сами тексты: есть небольшое количество (23) текстов длинной больше 50000 символов.  \n",
    "\n",
    "## Таргет\n",
    "Рейтинг -- нечто эфемерное, напрямую (корр, $\\sim 0.9$) связанное с отзывами и сообщениями. Дальнейшее наше исследование мы будем строить, основываясь на вкусе великолепных чтецов с сайта \"Изба-Читальня\".\n",
    "Шкалированный рейтинг и будем использовать как таргет. Была идея взвесить таргет на просмотры, но мы не смогли выяснить, как они формируются, так как корр. $\\sim 0,$ сложно сказать что-либо о взаимосвязи.\n",
    "\n",
    "<img src=\"https://encrypted-tbn3.gstatic.com/images?q=tbn:ANd9GcTtagaLfSlf2LA_dWYVtOrzs3PXaYq0GVt7yOrl9xTWspf9dpk4\" alt=\"drawing\" width=\"200\"/>"
   ]
  },
  {
   "cell_type": "markdown",
   "metadata": {},
   "source": [
    "## Метрики:\n",
    "MSE\n",
    "pFound"
   ]
  },
  {
   "cell_type": "code",
   "execution_count": null,
   "metadata": {
    "vscode": {
     "languageId": "python"
    }
   },
   "outputs": [],
   "source": []
  },
  {
   "cell_type": "markdown",
   "metadata": {},
   "source": []
  },
  {
   "cell_type": "markdown",
   "metadata": {},
   "source": []
  },
  {
   "cell_type": "markdown",
   "metadata": {},
   "source": []
  }
 ],
 "metadata": {
  "kernelspec": {
   "display_name": "Python 3 (ipykernel)",
   "language": "python",
   "name": "python3"
  },
  "orig_nbformat": 4
 },
 "nbformat": 4,
 "nbformat_minor": 2
}
